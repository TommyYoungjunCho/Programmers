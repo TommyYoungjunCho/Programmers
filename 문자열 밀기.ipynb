{
 "cells": [
  {
   "cell_type": "code",
   "execution_count": 10,
   "id": "3c52ce23",
   "metadata": {},
   "outputs": [],
   "source": [
    "A = A[-1] + A[:-1]"
   ]
  },
  {
   "cell_type": "code",
   "execution_count": 96,
   "id": "d52f1fca",
   "metadata": {},
   "outputs": [],
   "source": [
    "A = 'abc'\n",
    "\n",
    "B = 'abc'"
   ]
  },
  {
   "cell_type": "code",
   "execution_count": 97,
   "id": "a54d8115",
   "metadata": {},
   "outputs": [
    {
     "name": "stdout",
     "output_type": "stream",
     "text": [
      "0\n"
     ]
    }
   ],
   "source": [
    "tmp = []\n",
    "if A == B:\n",
    "    print(0)\n",
    "else:\n",
    "    for i in range(len(A)):\n",
    "        A = A[-1] + A[:-1]\n",
    "        if i == len(A)-1:\n",
    "            if A != B:\n",
    "                print(-1)\n",
    "        if A == B:\n",
    "            tmp.append(i+1)\n",
    "            result = min(tmp)\n",
    "            print(result)\n",
    "            break\n",
    "        else:\n",
    "            pass"
   ]
  },
  {
   "cell_type": "code",
   "execution_count": 98,
   "id": "340156b8",
   "metadata": {},
   "outputs": [],
   "source": [
    "A = 'abc'\n",
    "\n",
    "B = 'abc'"
   ]
  },
  {
   "cell_type": "code",
   "execution_count": 99,
   "id": "321e7adc",
   "metadata": {},
   "outputs": [],
   "source": [
    "def solution(A,B):\n",
    "    tmp = []\n",
    "    if A == B:\n",
    "        return (0)\n",
    "    else:\n",
    "        for i in range(len(A)):\n",
    "            A = A[-1] + A[:-1]\n",
    "            if i == len(A)-1:\n",
    "                if A != B:\n",
    "                    return(-1)\n",
    "            if A == B:\n",
    "                tmp.append(i+1)\n",
    "                result = min(tmp)\n",
    "                return(result)\n",
    "                break\n",
    "            else:\n",
    "                pass"
   ]
  },
  {
   "cell_type": "code",
   "execution_count": 100,
   "id": "d0a32943",
   "metadata": {},
   "outputs": [
    {
     "data": {
      "text/plain": [
       "0"
      ]
     },
     "execution_count": 100,
     "metadata": {},
     "output_type": "execute_result"
    }
   ],
   "source": [
    "solution(A,B)"
   ]
  },
  {
   "cell_type": "code",
   "execution_count": null,
   "id": "65fc1248",
   "metadata": {},
   "outputs": [],
   "source": []
  },
  {
   "cell_type": "code",
   "execution_count": 49,
   "id": "f1e6ed9d",
   "metadata": {},
   "outputs": [
    {
     "name": "stdout",
     "output_type": "stream",
     "text": [
      "abc\n"
     ]
    }
   ],
   "source": [
    "A = A[-1] + A[:-1]\n",
    "print(A)"
   ]
  },
  {
   "cell_type": "code",
   "execution_count": null,
   "id": "b1021e7a",
   "metadata": {},
   "outputs": [],
   "source": []
  },
  {
   "cell_type": "code",
   "execution_count": null,
   "id": "ef7508b7",
   "metadata": {},
   "outputs": [],
   "source": []
  }
 ],
 "metadata": {
  "kernelspec": {
   "display_name": "Python 3 (ipykernel)",
   "language": "python",
   "name": "python3"
  },
  "language_info": {
   "codemirror_mode": {
    "name": "ipython",
    "version": 3
   },
   "file_extension": ".py",
   "mimetype": "text/x-python",
   "name": "python",
   "nbconvert_exporter": "python",
   "pygments_lexer": "ipython3",
   "version": "3.9.12"
  }
 },
 "nbformat": 4,
 "nbformat_minor": 5
}
